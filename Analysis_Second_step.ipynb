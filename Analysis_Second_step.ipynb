# Setting (describing) a color palette which we are using in this study.
sns.palplot(['#0784BC','#6F7E88','#7DB9DB','#E0C29D','#062641'])
palette = ['#0784BC','#6F7E88','#7DB9DB','#E0C29D','#062641']

# How many new users do subscribe each month?
# A lineplot is the choice for this graph.
fig, ax = plt.subplots(figsize=(10,5))
user_counts = data['first_sub_date'].value_counts().sort_index()
user_counts = user_counts[user_counts.index > '2022-11-01']
sns.lineplot(x = user_counts.index, y = user_counts.values, ax = ax)
sns.despine()
ax.grid(axis = 'x', linestyle = '--', alpha = 0.5)
ax.grid(axis = 'y', linestyle = '--', alpha = 0.5)
ax.set_ylim(0)
ax.set_ylabel('Количество пользователей')
plt.show()

What is the most favorite (popular) type of subscription among the viewers?
This time countplot is a method to 
